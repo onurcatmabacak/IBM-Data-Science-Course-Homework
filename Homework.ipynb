{
 "cells": [
  {
   "cell_type": "markdown",
   "id": "97438c7c",
   "metadata": {},
   "source": [
    "ex2: \n",
    "\n",
    "Homework"
   ]
  },
  {
   "cell_type": "markdown",
   "id": "4bb1358e",
   "metadata": {},
   "source": [
    "ex3: \n",
    "\n",
    "# Introduction"
   ]
  },
  {
   "cell_type": "markdown",
   "id": "8584ef23",
   "metadata": {},
   "source": [
    "ex4: \n",
    "# the list of data science languages\n",
    "1. python\n",
    "2. R\n",
    "3. Scala"
   ]
  },
  {
   "cell_type": "markdown",
   "id": "25d5119c",
   "metadata": {},
   "source": [
    "ex5: \n",
    "\n",
    "# the list of data science libraries \n",
    "1. scikit-learn\n",
    "2. tensorflow\n",
    "3. pytorch"
   ]
  },
  {
   "cell_type": "markdown",
   "id": "8067c198",
   "metadata": {},
   "source": [
    "ex6:\n",
    "\n",
    "| Data science tool name |\n",
    "| --- \n",
    "| Apache Spark |\n",
    "| Tableau |\n",
    "| RapidMiner |"
   ]
  },
  {
   "cell_type": "markdown",
   "id": "082d9da9",
   "metadata": {},
   "source": [
    "ex7:\n",
    "\n",
    "$$+$$ is for summation\n",
    "$$-$$ is for subtraction\n",
    "$$/$$ is for division\n",
    "$$*$$ is for multiplying"
   ]
  },
  {
   "cell_type": "code",
   "execution_count": 5,
   "id": "31273716",
   "metadata": {},
   "outputs": [
    {
     "data": {
      "text/plain": [
       "17"
      ]
     },
     "execution_count": 5,
     "metadata": {},
     "output_type": "execute_result"
    }
   ],
   "source": [
    "# ex8\n",
    "\n",
    "3*5 + 2"
   ]
  },
  {
   "cell_type": "markdown",
   "id": "f1de7403",
   "metadata": {},
   "source": [
    "ex9: 7654273 minutes is "
   ]
  },
  {
   "cell_type": "code",
   "execution_count": 6,
   "id": "9ea994ef",
   "metadata": {},
   "outputs": [
    {
     "data": {
      "text/plain": [
       "127571.21666666666"
      ]
     },
     "execution_count": 6,
     "metadata": {},
     "output_type": "execute_result"
    }
   ],
   "source": [
    "7654273/60"
   ]
  },
  {
   "cell_type": "markdown",
   "id": "f444416b",
   "metadata": {},
   "source": [
    "equals to 127571.21666666666 hours"
   ]
  },
  {
   "cell_type": "markdown",
   "id": "17f14e40",
   "metadata": {},
   "source": [
    "ex10:\n",
    "\n",
    "# list of objectives\n",
    "<ol>\n",
    "<li>objective 1</li>\n",
    "<li>objective 2</li>\n",
    "<li>objective 3</li>\n",
    "</ol>"
   ]
  },
  {
   "cell_type": "markdown",
   "id": "bec71ba9",
   "metadata": {},
   "source": [
    "ex11:\n",
    "\n",
    "Author name: Onur Çatmabacak"
   ]
  },
  {
   "cell_type": "code",
   "execution_count": null,
   "id": "4ea2460f",
   "metadata": {},
   "outputs": [],
   "source": []
  }
 ],
 "metadata": {
  "kernelspec": {
   "display_name": "Python 3 (ipykernel)",
   "language": "python",
   "name": "python3"
  },
  "language_info": {
   "codemirror_mode": {
    "name": "ipython",
    "version": 3
   },
   "file_extension": ".py",
   "mimetype": "text/x-python",
   "name": "python",
   "nbconvert_exporter": "python",
   "pygments_lexer": "ipython3",
   "version": "3.10.12"
  }
 },
 "nbformat": 4,
 "nbformat_minor": 5
}
